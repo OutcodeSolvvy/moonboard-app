{
 "cells": [
  {
   "cell_type": "markdown",
   "metadata": {
    "deletable": true,
    "editable": true,
    "extensions": {
     "jupyter_dashboards": {
      "version": 1,
      "views": {
       "grid_default": {
        "col": 0,
        "height": 3,
        "hidden": false,
        "row": 0,
        "width": 12
       },
       "report_default": {
        "hidden": false
       }
      }
     }
    }
   },
   "source": [
    "# Moonboard  App\n",
    "****"
   ]
  },
  {
   "cell_type": "code",
   "execution_count": 1,
   "metadata": {
    "collapsed": false,
    "deletable": true,
    "editable": true,
    "extensions": {
     "jupyter_dashboards": {
      "version": 1,
      "views": {
       "grid_default": {
        "hidden": true
       },
       "report_default": {
        "hidden": true
       }
      }
     }
    }
   },
   "outputs": [],
   "source": [
    "import requests\n",
    "import bs4\n",
    "import re\n",
    "import tqdm\n",
    "import pickle\n",
    "import qgrid\n",
    "from IPython.display import display\n",
    "from ipywidgets import Button \n",
    "from IPython.display import HTML\n",
    "import pandas as pd\n",
    "\n",
    "MOONBOARD_PROBLEMS_URL = \"http://www.moonboard.com/problems/\"\n",
    "problems = pickle.load(open('problems.pkl', 'rb'))\n",
    "\n",
    "def get_all_problems_ids():\n",
    "    \"\"\"get all problems id\"\"\"\n",
    "    problems={}\n",
    "    r = requests.get(MOONBOARD_PROBLEMS_URL)\n",
    "    w_soup = bs4.BeautifulSoup(r.content,'lxml')\n",
    "    problems_tags = w_soup.find_all(lambda tag: tag.name == 'div' and ('problem-id' and 'grade-val' in tag.attrs))\n",
    "    for p in problems_tags: \n",
    "        cl = p.get('class') \n",
    "        problems[p.get('problem-id')]= {'grade_val':p.get('grade-val'),\n",
    "                                       'class':cl,\n",
    "                                       'author':(\" \".join(cl[4:])).strip()\n",
    "                                       }                \n",
    "    return problems\n",
    "\n",
    "def get_new_problems_ids(old_problems=None):\n",
    "    problems = get_all_problems_ids()\n",
    "    new_problems_keys = set(problems.keys())- set(old_problems.keys())\n",
    "    return {k:v for k,v in problems.items() if k in new_problems_keys}\n",
    "    \n",
    "    \n",
    "def get_problem_data(problem_id):\n",
    "    url = MOONBOARD_PROBLEMS_URL + \"?p={}/\".format(problem_id)\n",
    "    r = requests.get(url)\n",
    "    web_soup = bs4.BeautifulSoup(r.content,'lxml')\n",
    "    summary= web_soup.findAll('div',attrs={'class':'summary'})\n",
    "    if len(summary)>2:\n",
    "        raise ValueError\n",
    "    s = summary[1]\n",
    "    p_info = {'name': s.find('h1',attrs={'class':'post-title'}).decode_contents().strip(),\n",
    "              'grade':s.find('div',attrs={'id':'font_grade'}).decode_contents().strip().lower(),\n",
    "              'hold_sets':[c.strip() for c in s.children if c.name!= 'div' and \"Hold\" in c ],\n",
    "              'holds':{hold.get('id'):hold.get('name') for hold in s.find_all(id = re.compile(\"^FH|^IH|^SH\"))}\n",
    "             }#hold.get('id'):hold.get('name')\n",
    "    return p_info\n",
    "\n",
    "def validate_problem(problems_data):\n",
    "    return True\n",
    "\n",
    "def update_problems(problems, nmax = 10000):\n",
    "    print('fetch problems ids')\n",
    "    new_problems = get_new_problems_ids(problems)\n",
    "    n=0\n",
    "    errors=[]\n",
    "    added=[]\n",
    "    print('fetch single problems')\n",
    "    for k,p in tqdm.tqdm_notebook(new_problems.items()):\n",
    "        try:\n",
    "            p_d = get_problem_data(k)\n",
    "        except:\n",
    "            errors.append(k)\n",
    "        else:\n",
    "            if validate_problem(p_d):\n",
    "                problems[k] = {**p ,**p_d}\n",
    "                added.append(k)\n",
    "                n+=1\n",
    "            else:\n",
    "                errors.append(k)\n",
    "        if n>nmax:\n",
    "            break\n",
    "    #save\n",
    "    print(\"Save to file\")\n",
    "    with open('problems.pkl', 'wb') as output:\n",
    "        # Pickle dictionary using protocol 0.\n",
    "        pickle.dump(problems, output)\n",
    "    print('=========\\nTotal number of problems:' ,len(problems), '\\nAdded:', added,'\\nErrors:', errors)\n",
    "    return problems,errors,added\n"
   ]
  },
  {
   "cell_type": "markdown",
   "metadata": {
    "collapsed": false,
    "deletable": true,
    "editable": true,
    "extensions": {
     "jupyter_dashboards": {
      "version": 1,
      "views": {
       "grid_default": {
        "col": 0,
        "height": 4,
        "hidden": false,
        "row": 3,
        "width": 8
       },
       "report_default": {
        "hidden": false
       }
      }
     }
    }
   },
   "source": [
    "## Fetch Problem from MOON website\n",
    "\n",
    "at the following [url](http://www.moonboard.com/problems/) there is the full list of problems for the moonboard"
   ]
  },
  {
   "cell_type": "code",
   "execution_count": 2,
   "metadata": {
    "collapsed": false,
    "deletable": true,
    "editable": true,
    "extensions": {
     "jupyter_dashboards": {
      "version": 1,
      "views": {
       "grid_default": {
        "col": 8,
        "height": 4,
        "hidden": false,
        "row": 3,
        "width": 4
       },
       "report_default": {
        "hidden": false
       }
      }
     }
    }
   },
   "outputs": [
    {
     "name": "stdout",
     "output_type": "stream",
     "text": [
      "fetch problems ids\n",
      "fetch single problems\n",
      "\n",
      "Save to file\n",
      "=========\n",
      "Total number of problems: 5162 \n",
      "Added: ['127146', '127093', '127068', '126810', '127125', '127084', '127074', '127071', '126970', '127004', '127081', '126841', '127058', '126880', '127048', '127086', '126806'] \n",
      "Errors: ['89770', '61535']\n"
     ]
    }
   ],
   "source": [
    "update_button = Button()\n",
    "update_button.description=\"Update Problems\"\n",
    "\n",
    "def update(b):\n",
    "    update_problems(problems)\n",
    "\n",
    "update_button.on_click(update)\n",
    "display(update_button)"
   ]
  },
  {
   "cell_type": "code",
   "execution_count": 3,
   "metadata": {
    "collapsed": false,
    "deletable": true,
    "editable": true,
    "extensions": {
     "jupyter_dashboards": {
      "version": 1,
      "views": {
       "grid_default": {
        "hidden": true
       },
       "report_default": {
        "hidden": false
       }
      }
     }
    },
    "scrolled": false
   },
   "outputs": [],
   "source": [
    "import pandas as pd\n",
    "\n",
    "d = {k:{key:v.get(key) for key in['name', 'grade', 'hold_sets','author' ] } for k,v in problems.items()}\n",
    "\n",
    "sort = pd.DataFrame.from_dict(d , orient='index')\n",
    "\n",
    "\n",
    "opts = {\n",
    "    'fullWidthRows': True,\n",
    "    'syncColumnCellResize': True,\n",
    "    'forceFitColumns': True,\n",
    "    'rowHeight': 28,\n",
    "    'enableColumnReorder': False,\n",
    "    'enableTextSelectionOnCells': True,\n",
    "    'editable': False,\n",
    "    'autoEdit': False\n",
    "}\n",
    "qgrid.show_grid(sort[['name', 'grade', 'hold_sets', 'author']], grid_options=opts)"
   ]
  },
  {
   "cell_type": "markdown",
   "metadata": {
    "collapsed": true,
    "deletable": true,
    "editable": true,
    "extensions": {
     "jupyter_dashboards": {
      "version": 1,
      "views": {
       "grid_default": {
        "col": 0,
        "height": 9,
        "hidden": false,
        "row": 7,
        "width": 12
       },
       "report_default": {
        "hidden": false
       }
      }
     }
    },
    "heading_collapsed": true
   },
   "source": [
    "## Drive Leds\n",
    "\n",
    "\n",
    "****"
   ]
  }
 ],
 "metadata": {
  "extensions": {
   "jupyter_dashboards": {
    "activeView": "report_default",
    "version": 1,
    "views": {
     "grid_default": {
      "cellMargin": 10,
      "defaultCellHeight": 20,
      "maxColumns": 12,
      "name": "grid",
      "type": "grid"
     },
     "report_default": {
      "name": "report",
      "type": "report"
     }
    }
   }
  },
  "hide_input": false,
  "kernelspec": {
   "display_name": "Python 3",
   "language": "python",
   "name": "python3"
  },
  "language_info": {
   "codemirror_mode": {
    "name": "ipython",
    "version": 3
   },
   "file_extension": ".py",
   "mimetype": "text/x-python",
   "name": "python",
   "nbconvert_exporter": "python",
   "pygments_lexer": "ipython3",
   "version": "3.5.3"
  },
  "nav_menu": {},
  "toc": {
   "navigate_menu": true,
   "number_sections": true,
   "sideBar": true,
   "threshold": 6,
   "toc_cell": false,
   "toc_section_display": "block",
   "toc_window_display": false
  },
  "widgets": {
   "state": {
    "0cd82da77ca940f3bf65fe3f0f550c67": {
     "views": [
      {
       "cell_index": 3
      }
     ]
    },
    "66c97e9c846142a996aeb4876d71a0bb": {
     "views": [
      {
       "cell_index": 3
      }
     ]
    },
    "9d8c0decc8944ecf866526ea1ca138a4": {
     "views": [
      {
       "cell_index": 4
      }
     ]
    }
   },
   "version": "1.2.0"
  }
 },
 "nbformat": 4,
 "nbformat_minor": 1
}
